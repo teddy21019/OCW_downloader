{
 "cells": [
  {
   "cell_type": "markdown",
   "metadata": {},
   "source": [
    "# Lecture Note Download Macro\n",
    "\n",
    "This program automatically downloads all the lecture notes provided in a course from NTU open courseware (http://ocw.aca.ntu.edu.tw/ntu-ocw/)."
   ]
  },
  {
   "cell_type": "markdown",
   "metadata": {},
   "source": [
    "## Packages\n",
    "Several packages are required to run the web crawler. \n",
    "`selenium` runs the javascript in background. `BeautifulSoup` makes selecting HTML elements easier.\n",
    "`requests` is used to download files. `os` is used to check and create the directory to save the files in. "
   ]
  },
  {
   "cell_type": "code",
   "execution_count": 1,
   "metadata": {},
   "outputs": [],
   "source": [
    "#GET\n",
    "import requests\n",
    "\n",
    "#Render Website (Javascript) using webdriver\n",
    "from selenium import webdriver\n",
    "from selenium.webdriver.chrome.options import Options\n",
    "\n",
    "chrome_options = Options() # 啟動無頭模式\n",
    "chrome_options.add_argument('--headless')  #規避google bug\n",
    "chrome_options.add_argument('--disable-gpu')\n",
    "\n",
    "#Element Selector\n",
    "from bs4 import BeautifulSoup as bs\n",
    "from urllib import parse\n",
    "\n",
    "import os"
   ]
  },
  {
   "cell_type": "markdown",
   "metadata": {},
   "source": [
    "## Configurations\n",
    "\n",
    "Several configurations such as the availible file extention (副檔名) of the handouts. The path where the files should be saved in is also assigned here."
   ]
  },
  {
   "cell_type": "code",
   "execution_count": 2,
   "metadata": {},
   "outputs": [
    {
     "name": "stdout",
     "output_type": "stream",
     "text": [
      "注意～檔案存於./\n"
     ]
    }
   ],
   "source": [
    "# configuration\n",
    "available_file_extention = [\n",
    "    'pdf',\n",
    "    'doc',\n",
    "    'docx',\n",
    "    'ppt',\n",
    "    'pptx',\n",
    "    'xls',\n",
    "    'xlsx'\n",
    "]\n",
    "\n",
    "# path = '/Users/abc/Downloads/'\n",
    "path = './' # current \n",
    "\n",
    "print(f\"注意～檔案存於{path}\")\n",
    "    "
   ]
  },
  {
   "cell_type": "code",
   "execution_count": 3,
   "metadata": {},
   "outputs": [],
   "source": [
    "def get_soup_by_url(url):\n",
    "    \"\"\" Returns the soup(parsed HTML object) from the given url after front end codes are run\"\"\"\n",
    "    driver = webdriver.Chrome(\"./chromedriver\", options = chrome_options)\n",
    "\n",
    "    driver.get(url)\n",
    "    pageSourceCode = driver.page_source\n",
    "\n",
    "    soup = bs(pageSourceCode, \"html.parser\")\n",
    "    driver.close()\n",
    "    return soup"
   ]
  },
  {
   "cell_type": "markdown",
   "metadata": {},
   "source": [
    "## User Input\n",
    "Asks the user to input the url of the course. Course name and course ids are crawled."
   ]
  },
  {
   "cell_type": "code",
   "execution_count": 4,
   "metadata": {},
   "outputs": [
    {
     "name": "stdout",
     "output_type": "stream",
     "text": [
      "Enter course url:http://ocw.aca.ntu.edu.tw/ntu-ocw/ocw/cou/104S204\n",
      "課程名稱\t 數位語音處理概論\n"
     ]
    }
   ],
   "source": [
    "url = input(\"Enter course url:\")\n",
    "# url = 'http://ocw.aca.ntu.edu.tw/ntu-ocw/ocw/cou/106S201'\n",
    "\n",
    "soup_course_site = get_soup_by_url(url)\n",
    "# Get ocw code\n",
    "url = soup_course_site.find(\"meta\",  property=\"og:url\")['content'] # to make sure the url doesn't include topic numbers\n",
    "course_name = soup_course_site.select(\"h2.title\")[0].get_text()\n",
    "ocw_code = url.split('/')[-1]\n",
    "\n",
    "#Get total number of lectures\n",
    "lecture_list = soup_course_site.select('div.AccordionPanel')\n",
    "lecture_num = len(lecture_list)\n",
    "\n",
    "print('課程名稱\\t', course_name)\n",
    "\n",
    "# Get the list of lecture ids\n",
    "# the id of each section starts with topxx, so we get rid of the 'top' and extract the id\n",
    "ids = [l.get('id')[3:] for l in lecture_list]"
   ]
  },
  {
   "cell_type": "markdown",
   "metadata": {},
   "source": [
    "## File URL searching\n",
    "In this section, the program goes through all the course website (the direct ajax of the courses' section is called to reduce unnecessary elements to be loaded or rendered) and search for the file link.\n",
    "\n",
    "Notice that all files of lecture notes is under the `a` tag, which is under the `div` with class `classnote`. Some urls in the `a` tag are not files, but link to videos instead. To target the url for files, simply split the url by \".\" and observe whether the last element, aka the file extention, matches those assigned in the configuration section.\n",
    "\n",
    "In case that there might have more that one file in a lecture, and to make naming more intuitive in the later section, I save the urls in a dictionary, with the key being the lecture's id and the value being a list containing all the urls binded with the lecture."
   ]
  },
  {
   "cell_type": "code",
   "execution_count": 5,
   "metadata": {},
   "outputs": [
    {
     "name": "stdout",
     "output_type": "stream",
     "text": [
      "檔案尋找中...\n",
      "\n",
      "共計21個檔案\n",
      "\n"
     ]
    }
   ],
   "source": [
    "print(\"檔案尋找中...\")\n",
    "to_download_url = dict()\n",
    "file_count = 0\n",
    "for i in ids:\n",
    "    # to render the least data possible\n",
    "    ajax_url = f\"http://ocw.aca.ntu.edu.tw/ntu-ocw/cou-ajax/topic-content/{ocw_code}/{i}\"\n",
    "    soup_lecture = get_soup_by_url(ajax_url)\n",
    "    classnote_url = soup_lecture.select(\".classnote a\")\n",
    "    for u in classnote_url:\n",
    "        u = u[\"href\"]\n",
    "        file_extention = u.split('.')[-1]\n",
    "        if file_extention in available_file_extention:\n",
    "            if i in to_download_url:\n",
    "                to_download_url[i].append(u)\n",
    "            else:\n",
    "                to_download_url[i] = [u]\n",
    "            file_count += 1\n",
    "print (f\"\\n共計{file_count}個檔案\\n\")"
   ]
  },
  {
   "cell_type": "code",
   "execution_count": 6,
   "metadata": {},
   "outputs": [],
   "source": [
    "# make lecture path\n",
    "\n",
    "path += course_name\n",
    "\n",
    "if not os.path.isdir(path):\n",
    "    os.mkdir(path)"
   ]
  },
  {
   "cell_type": "markdown",
   "metadata": {},
   "source": [
    "## Download all urls\n",
    "\n",
    "Download the files after collecting all the urls out of the course. Some if-else statements are used to systemize the file naming. \n",
    "Basically the file name is set to be `lecture + id1 + .xxx`, but in the case where there are two or more files in one lecture, the file name is set to be `lecture + id1 + id2 +.xxx`."
   ]
  },
  {
   "cell_type": "code",
   "execution_count": 8,
   "metadata": {},
   "outputs": [
    {
     "name": "stdout",
     "output_type": "stream",
     "text": [
      "已下載\tlecture_1_1.pptx\n",
      "已下載\tlecture_1_2.pdf\n",
      "已下載\tlecture_2.pptx\n",
      "已下載\tlecture_3.pptx\n",
      "已下載\tlecture_4.pptx\n",
      "已下載\tlecture_5.pptx\n",
      "已下載\tlecture_6.pptx\n",
      "已下載\tlecture_7.pptx\n",
      "已下載\tlecture_8.pptx\n",
      "已下載\tlecture_9.pptx\n",
      "已下載\tlecture_10.pptx\n",
      "已下載\tlecture_11.pptx\n",
      "已下載\tlecture_12_1.pptx\n",
      "已下載\tlecture_12_2.pptx\n",
      "已下載\tlecture_13.pptx\n",
      "已下載\tlecture_14.pptx\n",
      "已下載\tlecture_15.pptx\n",
      "已下載\tlecture_16.pptx\n",
      "已下載\tlecture_17.pptx\n",
      "已下載\tlecture_18.pptx\n",
      "已下載\tlecture_19.pptx\n"
     ]
    }
   ],
   "source": [
    "# download and rename\n",
    "\n",
    "for key, value in to_download_url.items():\n",
    "    file_name = 'lecture_'+str(key)\n",
    "    if len(value) > 1:\n",
    "        for i, url in enumerate(value):\n",
    "            file_name_i =file_name + \"_\" + str(i+1)\n",
    "            lecture_file = requests.get(url)\n",
    "            file_extention = url.split('.')[-1]\n",
    "            \n",
    "            open(f'{path}/{file_name_i}.{file_extention}', 'wb').write(lecture_file.content)\n",
    "            print(f\"已下載\\t{file_name_i}.{file_extention}\")\n",
    "    \n",
    "\n",
    "    else: \n",
    "        url = value[0]\n",
    "        file_extention = url.split('.')[-1]\n",
    "        lecture_file = requests.get(url)\n",
    "        open(f'{path}/{file_name}.{file_extention}', 'wb').write(lecture_file.content)\n",
    "\n",
    "        print(f\"已下載\\t{file_name}.{file_extention}\")"
   ]
  },
  {
   "cell_type": "code",
   "execution_count": null,
   "metadata": {},
   "outputs": [],
   "source": []
  }
 ],
 "metadata": {
  "kernelspec": {
   "display_name": "Python 3",
   "language": "python",
   "name": "python3"
  },
  "language_info": {
   "codemirror_mode": {
    "name": "ipython",
    "version": 3
   },
   "file_extension": ".py",
   "mimetype": "text/x-python",
   "name": "python",
   "nbconvert_exporter": "python",
   "pygments_lexer": "ipython3",
   "version": "3.8.3"
  }
 },
 "nbformat": 4,
 "nbformat_minor": 4
}
